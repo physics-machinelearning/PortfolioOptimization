{
 "metadata": {
  "language_info": {
   "codemirror_mode": {
    "name": "ipython",
    "version": 3
   },
   "file_extension": ".py",
   "mimetype": "text/x-python",
   "name": "python",
   "nbconvert_exporter": "python",
   "pygments_lexer": "ipython3",
   "version": "3.7.4-final"
  },
  "orig_nbformat": 2,
  "kernelspec": {
   "name": "portfolio",
   "display_name": "portfolio",
   "language": "python"
  }
 },
 "nbformat": 4,
 "nbformat_minor": 2,
 "cells": [
  {
   "cell_type": "code",
   "execution_count": 16,
   "metadata": {},
   "outputs": [],
   "source": [
    "import pandas_datareader.data as pdr\n",
    "import datetime\n",
    "\n",
    "end = datetime.date.today()\n",
    "start = end - datetime.timedelta(days=10)\n",
    "\n",
    "pd_data = pdr.DataReader('SNE', 'yahoo', start, end)"
   ]
  },
  {
   "cell_type": "code",
   "execution_count": 6,
   "metadata": {},
   "outputs": [
    {
     "output_type": "execute_result",
     "data": {
      "text/plain": [
       "                 High        Low       Open      Close   Volume  Adj Close\n",
       "Date                                                                      \n",
       "2020-12-16  95.360001  94.050003  94.269997  95.110001   856800  95.110001\n",
       "2020-12-17  97.769997  96.769997  97.070000  97.019997  1199700  97.019997\n",
       "2020-12-18  99.349998  98.139999  99.099998  98.709999  1289600  98.709999\n",
       "2020-12-21  99.529999  97.809998  98.889999  99.400002   939000  99.400002\n",
       "2020-12-22  98.309998  97.279999  97.959999  97.459999   743000  97.459999\n",
       "2020-12-23  98.129997  97.239998  98.129997  97.459999   669600  97.459999\n",
       "2020-12-24  97.559998  96.540001  97.459999  96.839996   301800  96.839996"
      ],
      "text/html": "<div>\n<style scoped>\n    .dataframe tbody tr th:only-of-type {\n        vertical-align: middle;\n    }\n\n    .dataframe tbody tr th {\n        vertical-align: top;\n    }\n\n    .dataframe thead th {\n        text-align: right;\n    }\n</style>\n<table border=\"1\" class=\"dataframe\">\n  <thead>\n    <tr style=\"text-align: right;\">\n      <th></th>\n      <th>High</th>\n      <th>Low</th>\n      <th>Open</th>\n      <th>Close</th>\n      <th>Volume</th>\n      <th>Adj Close</th>\n    </tr>\n    <tr>\n      <th>Date</th>\n      <th></th>\n      <th></th>\n      <th></th>\n      <th></th>\n      <th></th>\n      <th></th>\n    </tr>\n  </thead>\n  <tbody>\n    <tr>\n      <th>2020-12-16</th>\n      <td>95.360001</td>\n      <td>94.050003</td>\n      <td>94.269997</td>\n      <td>95.110001</td>\n      <td>856800</td>\n      <td>95.110001</td>\n    </tr>\n    <tr>\n      <th>2020-12-17</th>\n      <td>97.769997</td>\n      <td>96.769997</td>\n      <td>97.070000</td>\n      <td>97.019997</td>\n      <td>1199700</td>\n      <td>97.019997</td>\n    </tr>\n    <tr>\n      <th>2020-12-18</th>\n      <td>99.349998</td>\n      <td>98.139999</td>\n      <td>99.099998</td>\n      <td>98.709999</td>\n      <td>1289600</td>\n      <td>98.709999</td>\n    </tr>\n    <tr>\n      <th>2020-12-21</th>\n      <td>99.529999</td>\n      <td>97.809998</td>\n      <td>98.889999</td>\n      <td>99.400002</td>\n      <td>939000</td>\n      <td>99.400002</td>\n    </tr>\n    <tr>\n      <th>2020-12-22</th>\n      <td>98.309998</td>\n      <td>97.279999</td>\n      <td>97.959999</td>\n      <td>97.459999</td>\n      <td>743000</td>\n      <td>97.459999</td>\n    </tr>\n    <tr>\n      <th>2020-12-23</th>\n      <td>98.129997</td>\n      <td>97.239998</td>\n      <td>98.129997</td>\n      <td>97.459999</td>\n      <td>669600</td>\n      <td>97.459999</td>\n    </tr>\n    <tr>\n      <th>2020-12-24</th>\n      <td>97.559998</td>\n      <td>96.540001</td>\n      <td>97.459999</td>\n      <td>96.839996</td>\n      <td>301800</td>\n      <td>96.839996</td>\n    </tr>\n  </tbody>\n</table>\n</div>"
     },
     "metadata": {},
     "execution_count": 6
    }
   ],
   "source": [
    "pd_data"
   ]
  },
  {
   "cell_type": "code",
   "execution_count": 10,
   "metadata": {},
   "outputs": [
    {
     "output_type": "stream",
     "name": "stdout",
     "text": [
      "2020-12-16 00:00:00 95.36000061035156\n2020-12-17 00:00:00 97.7699966430664\n2020-12-18 00:00:00 99.3499984741211\n2020-12-21 00:00:00 99.52999877929688\n2020-12-22 00:00:00 98.30999755859375\n2020-12-23 00:00:00 98.12999725341797\n2020-12-24 00:00:00 97.55999755859375\n"
     ]
    }
   ],
   "source": [
    "for index, row in pd_data.iterrows():\n",
    "    print(index, row['High'])"
   ]
  },
  {
   "cell_type": "code",
   "execution_count": 19,
   "metadata": {},
   "outputs": [
    {
     "output_type": "error",
     "ename": "TypeError",
     "evalue": "an integer is required (got type Timestamp)",
     "traceback": [
      "\u001b[0;31m---------------------------------------------------------------------------\u001b[0m",
      "\u001b[0;31mTypeError\u001b[0m                                 Traceback (most recent call last)",
      "\u001b[0;32m<ipython-input-19-ea6fd6fea566>\u001b[0m in \u001b[0;36m<module>\u001b[0;34m\u001b[0m\n\u001b[0;32m----> 1\u001b[0;31m \u001b[0mdatetime\u001b[0m\u001b[0;34m.\u001b[0m\u001b[0mdatetime\u001b[0m\u001b[0;34m.\u001b[0m\u001b[0mfromtimestamp\u001b[0m\u001b[0;34m(\u001b[0m\u001b[0mindex\u001b[0m\u001b[0;34m)\u001b[0m\u001b[0;34m\u001b[0m\u001b[0;34m\u001b[0m\u001b[0m\n\u001b[0m",
      "\u001b[0;31mTypeError\u001b[0m: an integer is required (got type Timestamp)"
     ]
    }
   ],
   "source": [
    "datetime.datetime.fromtimestamp(index)"
   ]
  },
  {
   "cell_type": "code",
   "execution_count": 23,
   "metadata": {},
   "outputs": [
    {
     "output_type": "execute_result",
     "data": {
      "text/plain": [
       "datetime.datetime(2020, 12, 24, 0, 0)"
      ]
     },
     "metadata": {},
     "execution_count": 23
    }
   ],
   "source": [
    "index.to_pydatetime()"
   ]
  },
  {
   "cell_type": "code",
   "execution_count": null,
   "metadata": {},
   "outputs": [],
   "source": []
  }
 ]
}